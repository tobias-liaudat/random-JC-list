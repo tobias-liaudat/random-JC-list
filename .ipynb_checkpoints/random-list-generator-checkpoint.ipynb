{
 "cells": [
  {
   "cell_type": "code",
   "execution_count": 35,
   "metadata": {},
   "outputs": [],
   "source": [
    "import random"
   ]
  },
  {
   "cell_type": "code",
   "execution_count": 36,
   "metadata": {},
   "outputs": [],
   "source": [
    "names =['JeanLuc','Jerome','Sam','Joana',\n",
    "        'Martin','Francois','Valeria','Sandrine',\n",
    "        'Isabella','Santiago','Mel','Vanshika',\n",
    "        'Virginia','Remi','Benjamin','Imane',\n",
    "        'Axel','Tobias','Fadi','Zaccharie',\n",
    "        'Hung','Jiaxin','Raphael','Gavin']\n"
   ]
  },
  {
   "cell_type": "code",
   "execution_count": 37,
   "metadata": {},
   "outputs": [
    {
     "name": "stdout",
     "output_type": "stream",
     "text": [
      "['Francois', 'Zaccharie', 'JeanLuc', 'Vanshika', 'Benjamin', 'Gavin', 'Sam', 'Raphael', 'Jerome', 'Sandrine', 'Martin', 'Remi', 'Isabella', 'Fadi', 'Virginia', 'Valeria', 'Mel', 'Jiaxin', 'Hung', 'Tobias', 'Santiago', 'Joana', 'Imane', 'Axel']\n"
     ]
    }
   ],
   "source": [
    "random.shuffle(names)\n",
    "print(names)"
   ]
  },
  {
   "cell_type": "code",
   "execution_count": null,
   "metadata": {},
   "outputs": [],
   "source": []
  },
  {
   "cell_type": "code",
   "execution_count": null,
   "metadata": {},
   "outputs": [],
   "source": []
  }
 ],
 "metadata": {
  "kernelspec": {
   "display_name": "Python 3",
   "language": "python",
   "name": "python3"
  },
  "language_info": {
   "codemirror_mode": {
    "name": "ipython",
    "version": 3
   },
   "file_extension": ".py",
   "mimetype": "text/x-python",
   "name": "python",
   "nbconvert_exporter": "python",
   "pygments_lexer": "ipython3",
   "version": "3.7.4"
  },
  "varInspector": {
   "cols": {
    "lenName": 16,
    "lenType": 16,
    "lenVar": 40
   },
   "kernels_config": {
    "python": {
     "delete_cmd_postfix": "",
     "delete_cmd_prefix": "del ",
     "library": "var_list.py",
     "varRefreshCmd": "print(var_dic_list())"
    },
    "r": {
     "delete_cmd_postfix": ") ",
     "delete_cmd_prefix": "rm(",
     "library": "var_list.r",
     "varRefreshCmd": "cat(var_dic_list()) "
    }
   },
   "types_to_exclude": [
    "module",
    "function",
    "builtin_function_or_method",
    "instance",
    "_Feature"
   ],
   "window_display": false
  }
 },
 "nbformat": 4,
 "nbformat_minor": 2
}
